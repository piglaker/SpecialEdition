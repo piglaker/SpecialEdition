{
 "cells": [
  {
   "cell_type": "code",
   "execution_count": 7,
   "metadata": {},
   "outputs": [],
   "source": [
    "def PPformat(per):\n",
    "    try :\n",
    "        per == float(per)\n",
    "    except:\n",
    "        per = 0\n",
    "    new = str(format(per, '.1f')) + 'pp'\n",
    "    if per >= 0:\n",
    "        new = '+' + new\n",
    "        return new\n",
    "    else:\n",
    "        return new"
   ]
  },
  {
   "cell_type": "code",
   "execution_count": 8,
   "metadata": {},
   "outputs": [
    {
     "name": "stdout",
     "output_type": "stream",
     "text": [
      "+0.0pp\n"
     ]
    }
   ],
   "source": [
    "print(PPformat(\" \"))"
   ]
  }
 ],
 "metadata": {
  "interpreter": {
   "hash": "956d83b7d464460e63ad10b2d137f16f3786ee81f8390dc334dc39940d4af4c8"
  },
  "kernelspec": {
   "display_name": "Python 3.6.13 ('gector': conda)",
   "language": "python",
   "name": "python3"
  },
  "language_info": {
   "codemirror_mode": {
    "name": "ipython",
    "version": 3
   },
   "file_extension": ".py",
   "mimetype": "text/x-python",
   "name": "python",
   "nbconvert_exporter": "python",
   "pygments_lexer": "ipython3",
   "version": "3.6.13"
  },
  "orig_nbformat": 4
 },
 "nbformat": 4,
 "nbformat_minor": 2
}
