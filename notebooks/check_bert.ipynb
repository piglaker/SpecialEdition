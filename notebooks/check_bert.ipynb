{
 "cells": [
  {
   "cell_type": "code",
   "execution_count": 4,
   "metadata": {},
   "outputs": [],
   "source": [
    "import torch.nn as nn\n",
    "\n",
    "\n",
    "from transformers import AutoConfig\n",
    "\n",
    "import sys\n",
    "sys.path.append(\"../\")\n",
    "from models.bert.modeling_bert_v4 import BertModel\n"
   ]
  },
  {
   "cell_type": "code",
   "execution_count": 5,
   "metadata": {},
   "outputs": [],
   "source": [
    "class ProtoModel_v3(nn.Module):\n",
    "\n",
    "    def __init__(self, pretrained_model_name_or_path, cl_weight, repeat_weight, copy_weight):\n",
    "\n",
    "        self.config = AutoConfig.from_pretrained(pretrained_model_name_or_path)\n",
    "\n",
    "        #super(ProtoModel_v3, self).__init__(self.config)\n",
    "\n",
    "        super().__init__()\n",
    "\n",
    "        #self.bert = BertModel(config, add_pooling_layer=False)\n",
    "        #self.cls = BertOnlyMLMHead(config)\n",
    "\n",
    "        # Initialize weights and apply final processing\n",
    "        #self.post_init()\n",
    "        \n",
    "        #self.bert = BertModel(self.config, add_pooling_layer=False)\n",
    "        \n",
    "        self.bert = BertModel.from_pretrained(pretrained_model_name_or_path)\n",
    "\n",
    "        #self.cls = BertOnlyMLMHead(self.config)\n",
    "\n",
    "        self.cls = nn.Linear(self.config.hidden_size, self.config.vocab_size, bias=True)\n",
    "\n"
   ]
  },
  {
   "cell_type": "code",
   "execution_count": 6,
   "metadata": {},
   "outputs": [
    {
     "name": "stderr",
     "output_type": "stream",
     "text": [
      "Some weights of the model checkpoint at hfl/chinese-roberta-wwm-ext were not used when initializing BertModel: ['cls.seq_relationship.weight', 'cls.predictions.transform.LayerNorm.weight', 'cls.predictions.transform.dense.bias', 'cls.predictions.transform.LayerNorm.bias', 'cls.predictions.decoder.weight', 'cls.seq_relationship.bias', 'cls.predictions.bias', 'cls.predictions.transform.dense.weight']\n",
      "- This IS expected if you are initializing BertModel from the checkpoint of a model trained on another task or with another architecture (e.g. initializing a BertForSequenceClassification model from a BertForPreTraining model).\n",
      "- This IS NOT expected if you are initializing BertModel from the checkpoint of a model that you expect to be exactly identical (initializing a BertForSequenceClassification model from a BertForSequenceClassification model).\n"
     ]
    }
   ],
   "source": [
    "net = ProtoModel_v3(\"hfl/chinese-roberta-wwm-ext\", 0, 0, 0)"
   ]
  },
  {
   "cell_type": "code",
   "execution_count": 10,
   "metadata": {},
   "outputs": [
    {
     "name": "stdout",
     "output_type": "stream",
     "text": [
      "('cls.bias', Parameter containing:\n",
      "tensor([ 0.0354,  0.0147, -0.0099,  ..., -0.0298, -0.0187, -0.0129],\n",
      "       requires_grad=True))\n"
     ]
    }
   ],
   "source": [
    "to_print = list(net.named_parameters())[-1]\n",
    "\n",
    "print(to_print)"
   ]
  }
 ],
 "metadata": {
  "kernelspec": {
   "display_name": "Python 3.8.11 ('117': conda)",
   "language": "python",
   "name": "python3"
  },
  "language_info": {
   "codemirror_mode": {
    "name": "ipython",
    "version": 3
   },
   "file_extension": ".py",
   "mimetype": "text/x-python",
   "name": "python",
   "nbconvert_exporter": "python",
   "pygments_lexer": "ipython3",
   "version": "3.8.11"
  },
  "orig_nbformat": 4,
  "vscode": {
   "interpreter": {
    "hash": "7e2dc701bf398b464ce69644f23ea143adca83783263e47d39149d5b90225121"
   }
  }
 },
 "nbformat": 4,
 "nbformat_minor": 2
}
