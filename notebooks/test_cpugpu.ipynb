{
 "cells": [
  {
   "cell_type": "code",
   "execution_count": 4,
   "metadata": {},
   "outputs": [],
   "source": [
    "from time import time\n",
    "\n",
    "import torch\n",
    "import numpy as np"
   ]
  },
  {
   "cell_type": "code",
   "execution_count": 16,
   "metadata": {},
   "outputs": [],
   "source": [
    "#function to test\n",
    "def compute_metrics(eval_preds):\n",
    "        \"\"\"\n",
    "        \"\"\"\n",
    "        sources, preds, labels = eval_preds# (num, length) np.array\n",
    "\n",
    "        sources, preds, labels = sources.cpu().numpy(), preds.cpu().numpy(), labels.cpu().numpy()\n",
    "\n",
    "        tp, fp, fn = 0, 0, 0\n",
    "\n",
    "        for i in range(len(sources)):\n",
    "\n",
    "            source, pred, label = sources[i][sources[i] != 102], preds[i][ preds[i] != 102 ], labels[i][ labels[i] != 102]\n",
    "            source, pred, label = source[source != 101], pred[pred != 101], label[label != 101]\n",
    "            source, pred, label = source[source != 0], pred[pred != 0], label[label != 0]\n",
    "            source, pred, label = source[source != -100], pred[pred != -100], label[label != -100] \n",
    "\n",
    "            max_length = max([len(source), len(pred), len(label)])\n",
    "            source, pred, label = np.pad(source, (0, max_length - len(source))), \\\n",
    "                np.pad(pred, (0, max_length - len(pred))), \\\n",
    "                    np.pad(label, (0, max_length - len(label))) \n",
    "            \n",
    "            if (source != label).any():\n",
    "                if (pred == label).all():\n",
    "                    tp += 1\n",
    "                else:\n",
    "                    fn += 1\n",
    "            else:\n",
    "                if (pred == label).all():\n",
    "                    pass\n",
    "                else:\n",
    "                     fp += 1           \n",
    "\n",
    "\n",
    "        precision = tp / (tp + fp + 1e-10)\n",
    "\n",
    "        recall = tp / (tp + fn + 1e-10)\n",
    "\n",
    "        F1_score = 2 * precision * recall / (precision + recall + 1e-10)\n",
    "\n",
    "        return {\"F1_score\": float(F1_score)}"
   ]
  },
  {
   "cell_type": "code",
   "execution_count": 19,
   "metadata": {},
   "outputs": [
    {
     "name": "stdout",
     "output_type": "stream",
     "text": [
      "{'F1_score': 0.0}\n",
      "0.979856014251709\n"
     ]
    }
   ],
   "source": [
    "def test():\n",
    "    #test_data = (torch.randn(5000, 128).cpu().numpy(), torch.randn(5000, 128).gpu().numpy(), torch.randn(5000, 128).cpu().numpy())\n",
    "    test_data = (torch.randn(5000, 128).cuda(0), torch.randn(5000, 128).cuda(0), torch.randn(5000, 128).cuda(0))\n",
    "    start = time()\n",
    "    res = compute_metrics(test_data)\n",
    "    print(res)\n",
    "    end = time()\n",
    "    print(end - start)\n",
    "\n",
    "    return \n",
    "test()"
   ]
  },
  {
   "cell_type": "code",
   "execution_count": 18,
   "metadata": {},
   "outputs": [
    {
     "name": "stdout",
     "output_type": "stream",
     "text": [
      "{'F1_score': 0.0}\n",
      "0.9681587219238281\n"
     ]
    }
   ],
   "source": [
    "def test():\n",
    "    test_data = (torch.randn(5000, 128).cpu().numpy(), torch.randn(5000, 128).gpu().numpy(), torch.randn(5000, 128).cpu().numpy())\n",
    "    #test_data = (torch.randn(5000, 128).cuda(0), torch.randn(5000, 128).cuda(0), torch.randn(5000, 128).cuda(0))\n",
    "    start = time()\n",
    "    res = compute_metrics(test_data)\n",
    "    print(res)\n",
    "    end = time()\n",
    "    print(end - start)\n",
    "\n",
    "    return \n",
    "test()"
   ]
  },
  {
   "cell_type": "code",
   "execution_count": null,
   "metadata": {},
   "outputs": [],
   "source": []
  }
 ],
 "metadata": {
  "interpreter": {
   "hash": "f5798d1b89faf9fad5f596318b99ae69e82e8b63ab102e599c8ecfb07b8dff05"
  },
  "kernelspec": {
   "display_name": "Python 3.8.11 64-bit ('dophin': conda)",
   "name": "python3"
  },
  "language_info": {
   "codemirror_mode": {
    "name": "ipython",
    "version": 3
   },
   "file_extension": ".py",
   "mimetype": "text/x-python",
   "name": "python",
   "nbconvert_exporter": "python",
   "pygments_lexer": "ipython3",
   "version": "3.8.11"
  },
  "orig_nbformat": 4
 },
 "nbformat": 4,
 "nbformat_minor": 2
}
