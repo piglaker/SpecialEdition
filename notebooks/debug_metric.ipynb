{
 "cells": [
  {
   "cell_type": "code",
   "execution_count": 33,
   "metadata": {},
   "outputs": [],
   "source": [
    "def compute_metrics(eval_preds):\n",
    "        \"\"\"\n",
    "        \"\"\"\n",
    "        sources, preds, labels = eval_preds# (num, length) np.array\n",
    "\n",
    "        tp, fp, fn = 0, 0, 0\n",
    "\n",
    "        for i in range(len(sources)):\n",
    "            \n",
    "            source, pred, label = sources[i][sources[i] != 102], preds[i][ preds[i] != 102 ], labels[i][ labels[i] != 102]\n",
    "            source, pred, label = source[source != 101], pred[pred != 101], label[label != 101]\n",
    "            source, pred, label = source[source != 0], pred[pred != 0], label[label != 0]\n",
    "            source, pred, label = source[source != -100], pred[pred != -100], label[label != -100] \n",
    "\n",
    "            max_length = max([len(source), len(pred), len(label)])\n",
    "            source, pred, label = np.pad(source, (0, max_length - len(source))), \\\n",
    "                np.pad(pred, (0, max_length - len(pred))), \\\n",
    "                    np.pad(label, (0, max_length - len(label))) \n",
    " \n",
    "            print(source, pred, label)\n",
    "            \n",
    "            if (source != label).any():\n",
    "                if (pred == label).all():\n",
    "                    tp += 1\n",
    "                else:\n",
    "                    fn += 1\n",
    "            else:\n",
    "                if (pred == label).all():\n",
    "                    pass\n",
    "                else:\n",
    "                    fp += 1           \n",
    "            \"\"\"\n",
    "            \n",
    "            if ( pred == label ).all():\n",
    "                #Picked and Need pick\n",
    "                tp += 1\n",
    "            elif ( source == label ).all():\n",
    "                #Picked but Dont need pick\n",
    "                fp += 1\n",
    "            else:\n",
    "                #Not Pick but Need pick\n",
    "                fn += 1\n",
    "            \"\"\"\n",
    "\n",
    "        print(tp, fp, fn)\n",
    "        precision = tp / (tp + fp + 1e-10)\n",
    "\n",
    "        recall = tp / (tp + fn + 1e-10)\n",
    "\n",
    "        F1_score = 2 * precision * recall / (precision + recall + 1e-10)\n",
    "        print(precision, recall)\n",
    "        return {\"F1_score\": float(F1_score)}"
   ]
  },
  {
   "cell_type": "code",
   "execution_count": 5,
   "metadata": {},
   "outputs": [],
   "source": [
    "import numpy as np"
   ]
  },
  {
   "cell_type": "code",
   "execution_count": 35,
   "metadata": {},
   "outputs": [
    {
     "name": "stdout",
     "output_type": "stream",
     "text": [
      "[30 30] [30 40] [30 20]\n",
      "[30 30] [30 20] [30 20]\n",
      "[30 30] [30 20] [30 30]\n",
      "[30 30] [30 30] [30 30]\n",
      "1 1 1\n",
      "0.499999999975 0.499999999975\n"
     ]
    },
    {
     "data": {
      "text/plain": [
       "{'F1_score': 0.499999999925}"
      ]
     },
     "execution_count": 35,
     "metadata": {},
     "output_type": "execute_result"
    }
   ],
   "source": [
    "a = np.array([\n",
    "    [102, 30, 30, 0, 0, 0],\n",
    "    [102, 30, 30, 0, 0, 0],\n",
    "    [102, 30, 30, 0, 0, 0],\n",
    "    [102, 30, 30, 0, 0, 0]\n",
    "])\n",
    "\n",
    "b = np.array([\n",
    "    [30, 40],\n",
    "    [30, 20],\n",
    "    [30, 20],\n",
    "    [30, 30]\n",
    "])\n",
    "\n",
    "c = np.array([\n",
    "    [102, 30, 20, -100, -100, -100],\n",
    "    [102, 30, 20, -100, -100, -100],\n",
    "    [102, 30, 30, -100, -100, -100],\n",
    "    [102, 30, 30, -100, -100, -100]\n",
    "])\n",
    "\n",
    "compute_metrics((a, b, c))"
   ]
  }
 ],
 "metadata": {
  "interpreter": {
   "hash": "f5798d1b89faf9fad5f596318b99ae69e82e8b63ab102e599c8ecfb07b8dff05"
  },
  "kernelspec": {
   "display_name": "Python 3.8.11 64-bit ('dophin': conda)",
   "name": "python3"
  },
  "language_info": {
   "codemirror_mode": {
    "name": "ipython",
    "version": 3
   },
   "file_extension": ".py",
   "mimetype": "text/x-python",
   "name": "python",
   "nbconvert_exporter": "python",
   "pygments_lexer": "ipython3",
   "version": "3.8.11"
  },
  "orig_nbformat": 4
 },
 "nbformat": 4,
 "nbformat_minor": 2
}
