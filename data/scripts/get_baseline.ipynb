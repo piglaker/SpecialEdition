{
 "cells": [
  {
   "cell_type": "code",
   "execution_count": null,
   "metadata": {},
   "outputs": [],
   "source": []
  }
 ],
 "metadata": {
  "interpreter": {
   "hash": "7e2dc701bf398b464ce69644f23ea143adca83783263e47d39149d5b90225121"
  },
  "kernelspec": {
   "display_name": "Python 3.8.11 ('117': conda)",
   "language": "python",
   "name": "python3"
  },
  "language_info": {
   "name": "python",
   "version": "3.8.11"
  },
  "orig_nbformat": 4
 },
 "nbformat": 4,
 "nbformat_minor": 2
}
