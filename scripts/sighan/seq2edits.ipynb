{
 "cells": [
  {
   "cell_type": "code",
   "execution_count": 1,
   "metadata": {},
   "outputs": [],
   "source": [
    "import sys\n",
    "\n",
    "sys.path.append(\"../../\") \n",
    "from utils import levenshtein\n"
   ]
  },
  {
   "cell_type": "code",
   "execution_count": 5,
   "metadata": {},
   "outputs": [],
   "source": [
    "def read_csv(path):\n",
    "    result = []\n",
    "\n",
    "    with open(path) as f:\n",
    "        for line in f.readlines():\n",
    "            result.append(line.replace(\" \", \"\"))\n",
    "\n",
    "    return result\n",
    "\n",
    "#valid14_source_path = \"../../data/rawdata/sighan/valid14.src\"\n",
    "#valid14_predict_path = \"../../generated_predictions.txt\"\n",
    "\n",
    "valid_source_path = \"../../data/rawdata/sighan/std/test.src\"\n",
    "#valid_predict_path = \"../../tmp/sighan_seq/generated_predictions_2221.txt\"\n",
    "valid_predict_path = \"../../predict/checkpoint-19740_15_generated_predictions\"\n",
    "\n",
    "#valid14_source = read_csv(valid14_source_path)\n",
    "#valid14_predict = read_csv(valid14_predict_path)\n",
    "\n",
    "valid_source = read_csv(valid_source_path)\n",
    "valid_predict = read_csv(valid_predict_path)\n"
   ]
  },
  {
   "cell_type": "code",
   "execution_count": 6,
   "metadata": {},
   "outputs": [],
   "source": [
    "def write_to(path, contents):\n",
    "    f = open(path, \"w\", encoding='utf-8')\n",
    "    f.write(contents)\n",
    "    f.close()\n",
    "\n",
    "#predict14_through = levenshtein.convert_from_sentpair_through(valid14_source, valid14_predict, valid14_source)\n",
    "\n",
    "predict_through = levenshtein.convert_from_sentpair_through(valid_source, valid_predict, valid_source)\n",
    "\n",
    "#write_to(\"../../tmp/sighan_seq/generated_predictions14.through\", \"\\n\".join(predict14_through))\n",
    "write_to(\"../../current.through\", \"\\n\".join(predict_through))\n"
   ]
  }
 ],
 "metadata": {
  "interpreter": {
   "hash": "f5798d1b89faf9fad5f596318b99ae69e82e8b63ab102e599c8ecfb07b8dff05"
  },
  "kernelspec": {
   "display_name": "Python 3.8.11 64-bit ('dophin': conda)",
   "name": "python3"
  },
  "language_info": {
   "codemirror_mode": {
    "name": "ipython",
    "version": 3
   },
   "file_extension": ".py",
   "mimetype": "text/x-python",
   "name": "python",
   "nbconvert_exporter": "python",
   "pygments_lexer": "ipython3",
   "version": "3.8.11"
  },
  "orig_nbformat": 4
 },
 "nbformat": 4,
 "nbformat_minor": 2
}
