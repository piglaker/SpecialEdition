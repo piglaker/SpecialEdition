{
 "cells": [
  {
   "cell_type": "code",
   "execution_count": 2,
   "metadata": {},
   "outputs": [],
   "source": [
    "import jieba.posseg as pseg\n",
    "\n",
    "import sys\n",
    "sys.path.append(\"../../\")\n",
    "\n",
    "from utils.io import read_csv, load_json, write_to\n"
   ]
  },
  {
   "cell_type": "code",
   "execution_count": 3,
   "metadata": {},
   "outputs": [],
   "source": [
    "source_path = \"../../data/rawdata/sighan/csc/test15.json\"\n",
    "\n",
    "predictions_path = \"../../predict/generated_predictions_8884.txt\"\n",
    "\n",
    "valid_target_path = \"../../data/rawdata/sighan/valid.tgt\"\n"
   ]
  },
  {
   "cell_type": "code",
   "execution_count": 4,
   "metadata": {},
   "outputs": [],
   "source": [
    "sources = load_json(source_path)\n",
    "\n",
    "predictions = read_csv(predictions_path)\n",
    "\n",
    "targets = read_csv(valid_target_path)\n"
   ]
  },
  {
   "cell_type": "code",
   "execution_count": 5,
   "metadata": {},
   "outputs": [
    {
     "name": "stdout",
     "output_type": "stream",
     "text": [
      "[{'original_text': '你好！我是张爱文。', 'correct_text': '你好！我是张爱文。', 'id': 'A2-0011-1', 'wrong_ids': []}, {'original_text': '下个星期，我跟我朋唷打算去法国玩儿。', 'correct_text': '下个星期，我跟我朋友打算去法国玩儿。', 'id': 'A2-0023-1', 'wrong_ids': [9]}, {'original_text': '我听说，你找到新工作，我很高兴。', 'correct_text': '我听说，你找到新工作，我很高兴。', 'id': 'A2-0023-2', 'wrong_ids': []}, {'original_text': '对不气，最近我很忙，所以我不会去妳的。', 'correct_text': '对不起，最近我很忙，所以我不会去妳的。', 'id': 'A2-0029-1', 'wrong_ids': [2]}, {'original_text': '真麻烦你了。希望你们好好的跳无。', 'correct_text': '真麻烦你了。希望你们好好的跳舞。', 'id': 'A2-0036-1', 'wrong_ids': [14]}] ['你好!我是张爱文。\\n', '下个星期,我跟我朋友打算去法国玩儿。\\n', '我听说,你找到新工作,我很高兴。\\n', '对不起,最近我很忙,所以我不会去妳的。\\n', '真麻烦你了。希望你们好好的跳舞。\\n'] ['你好!我是张爱文。\\n', '下个星期,我跟我朋友打算去法国玩儿。\\n', '我听说,你找到新工作,我很高兴。\\n', '对不起,最近我很忙,所以我不会去妳的。\\n', '真麻烦你了。希望你们好好的跳舞。\\n']\n"
     ]
    }
   ],
   "source": [
    "print(sources[:5], predictions[:5], targets[:5])"
   ]
  },
  {
   "cell_type": "code",
   "execution_count": null,
   "metadata": {},
   "outputs": [],
   "source": [
    "for i in range(len(sources[:5])):\n",
    "    source, pred, target = sources[i], predictions[i], targets[i]\n",
    "    \n"
   ]
  },
  {
   "cell_type": "code",
   "execution_count": null,
   "metadata": {},
   "outputs": [],
   "source": []
  }
 ],
 "metadata": {
  "interpreter": {
   "hash": "f5798d1b89faf9fad5f596318b99ae69e82e8b63ab102e599c8ecfb07b8dff05"
  },
  "kernelspec": {
   "display_name": "Python 3.8.11 64-bit ('dophin': conda)",
   "name": "python3"
  },
  "language_info": {
   "codemirror_mode": {
    "name": "ipython",
    "version": 3
   },
   "file_extension": ".py",
   "mimetype": "text/x-python",
   "name": "python",
   "nbconvert_exporter": "python",
   "pygments_lexer": "ipython3",
   "version": "3.8.11"
  },
  "orig_nbformat": 4
 },
 "nbformat": 4,
 "nbformat_minor": 2
}
