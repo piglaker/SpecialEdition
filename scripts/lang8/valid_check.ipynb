{
 "cells": [
  {
   "cell_type": "code",
   "execution_count": 1,
   "metadata": {},
   "outputs": [],
   "source": [
    "import os\n",
    "import re\n",
    "import sys\n",
    "sys.path.append(\"/remote-home/xtzhang/CTC/CTC2021/SpecialEdition\")\n",
    "\n",
    "from utils.io import read_csv, write_to\n",
    "\n"
   ]
  },
  {
   "cell_type": "code",
   "execution_count": 10,
   "metadata": {},
   "outputs": [],
   "source": [
    "def load_lang8_plus():\n",
    "    import sys\n",
    "    sys.path.append(\"/remote-home/xtzhang/CTC/CTC2021/SpecialEdition\")\n",
    "\n",
    "    from utils.io import read_csv, write_to\n",
    "\n",
    "    src = read_csv(\"/remote-home/xtzhang/CTC/CTC2021/SpecialEdition/data/rawdata/lang8/zh-hsk-lang8/zh-official-nlpcc2018/lang8.src\")\n",
    "    tgt = read_csv(\"/remote-home/xtzhang/CTC/CTC2021/SpecialEdition/data/rawdata/lang8/zh-hsk-lang8/zh-official-nlpcc2018/lang8.trg\")\n",
    "\n",
    "    import opencc\n",
    "    cc = opencc.OpenCC('t2s')\n",
    "\n",
    "    src, tgt = [ cc.convert(re.sub(\" \", \"\", i)) for i in src], [ cc.convert(re.sub(\" \", \"\", i)) for i in tgt]\n",
    "\n",
    "    return src,tgt\n",
    "\n",
    "\n",
    "src_plus, tgt_plus = load_lang8_plus()\n"
   ]
  },
  {
   "cell_type": "code",
   "execution_count": 13,
   "metadata": {},
   "outputs": [
    {
     "name": "stdout",
     "output_type": "stream",
     "text": [
      "361495\n",
      "236837\n"
     ]
    }
   ],
   "source": [
    "count = 0\n",
    "\n",
    "match_and_wrong = 0\n",
    "\n",
    "new_src_plus, new_tgt_plus = [], []\n",
    "\n",
    "for i in range(len(src_plus)):\n",
    "    if len(src_plus[i]) == len(tgt_plus[i]):\n",
    "        count += 1\n",
    "        if src_plus[i] != tgt_plus[i]:\n",
    "            match_and_wrong += 1\n",
    "\n",
    "            new_src_plus.append(src_plus[i])\n",
    "            new_tgt_plus.append(tgt_plus[i])\n",
    "        #print(get_cor(src[i], tgt[i]))\n",
    "    else:\n",
    "        pass\n",
    "        #print(\"unmatch\")\n",
    "\n",
    "print(count)\n",
    "print(match_and_wrong)"
   ]
  },
  {
   "cell_type": "code",
   "execution_count": 18,
   "metadata": {},
   "outputs": [],
   "source": [
    "write_to(\"/remote-home/xtzhang/CTC/CTC2021/SpecialEdition/data/rawdata/lang8/raw/train.src\", \"\".join(new_src_plus))\n",
    "\n",
    "write_to(\"/remote-home/xtzhang/CTC/CTC2021/SpecialEdition/data/rawdata/lang8/raw/train.tgt\", \"\".join(new_tgt_plus))"
   ]
  },
  {
   "cell_type": "code",
   "execution_count": 15,
   "metadata": {},
   "outputs": [
    {
     "name": "stdout",
     "output_type": "stream",
     "text": [
      "然后，我们决定去超市买一些衣服。\n",
      " 随后，我们决定去超市买一些衣服。\n",
      "\n",
      "这个冬天这里下了两次大雪。\n",
      " 这个冬天这里下了两场大雪。\n",
      "\n",
      "我把一个同时带过来，她想说嘿，可是海鸥马上飞出去，那很不客气。\n",
      " 我带了一个同事过来，她想说嘿，可是海鸥马上飞走了，那很不客气。\n",
      "\n",
      "这是我的回应。\n",
      " 这是我的回答。\n",
      "\n",
      "不，我去商店买纽丝纶地图。\n",
      " 不，我去商店买新西兰地图。\n",
      "\n",
      "长氏大约在三年前，攻破了菅生的城主越前守胤贞，成为这一带最有实力的将军。\n",
      " 长氏大约在三年前，打败了菅生的城主越前守胤贞，成为这一带最有实力的将军。\n",
      "\n",
      "前一天学生练习游泳的时候，游泳池里一个金鱼也没有。\n",
      " 前一天学生练习游泳的时候，游泳池里一条金鱼也没有。\n",
      "\n",
      "你吃早饭了马?\n",
      " 你吃早饭了吗?\n",
      "\n",
      "一般我7点起床。\n",
      " 我一般7点起床。\n",
      "\n",
      "这四天温度是35度以上，我真热死了。\n",
      " 这四天温度35度以上，真的热死我了。\n",
      "\n",
      "再说，西方的电影都是由中国配音员进行配音的。\n",
      " 并且，西方的电影都是由中国配音员进行配音的。\n",
      "\n",
      "很多动物的布娃娃团坐在一起！\n",
      " 很多动物的布娃娃围坐在一起！\n",
      "\n",
      "我呢…有的话有，没有的话没有。\n",
      " 我呢…说有也有，说没有也没有。\n",
      "\n"
     ]
    }
   ],
   "source": [
    "for i in range(20):\n",
    "    if new_src_plus[i] != new_tgt_plus[i]:\n",
    "        print(new_src_plus[i], new_tgt_plus[i])"
   ]
  },
  {
   "cell_type": "code",
   "execution_count": 2,
   "metadata": {},
   "outputs": [],
   "source": [
    "def load_lang8():\n",
    "    import sys\n",
    "    sys.path.append(\"/remote-home/xtzhang/CTC/CTC2021/SpecialEdition\")\n",
    "\n",
    "    from utils.io import read_csv, write_to\n",
    "\n",
    "    src = read_csv(\"/remote-home/xtzhang/CTC/CTC2021/SpecialEdition/data/rawdata/lang8/zh-hsk-lang8/zh-hsk/hsk.src\")\n",
    "    tgt = read_csv(\"/remote-home/xtzhang/CTC/CTC2021/SpecialEdition/data/rawdata/lang8/zh-hsk-lang8/zh-hsk/hsk.trg\")\n",
    "\n",
    "    import opencc\n",
    "    cc = opencc.OpenCC('t2s')\n",
    "\n",
    "    src, tgt = [ cc.convert(re.sub(\" \", \"\", i)) for i in src], [ cc.convert(re.sub(\" \", \"\", i)) for i in tgt]\n",
    "\n",
    "    return src,tgt\n",
    "\n",
    "\n",
    "src, tgt = load_lang8()\n"
   ]
  },
  {
   "cell_type": "code",
   "execution_count": 3,
   "metadata": {},
   "outputs": [],
   "source": [
    "def get_cor(source, target):\n",
    "    return [ (j, target[j]) for j in range(len(target)) if target[j] != source[j]]\n"
   ]
  },
  {
   "cell_type": "code",
   "execution_count": 4,
   "metadata": {},
   "outputs": [
    {
     "name": "stdout",
     "output_type": "stream",
     "text": [
      "104116\n",
      "38639\n"
     ]
    }
   ],
   "source": [
    "count = 0\n",
    "\n",
    "match_and_wrong = 0\n",
    "\n",
    "new_src, new_tgt = [], []\n",
    "\n",
    "for i in range(len(src)):\n",
    "    if len(src[i]) == len(tgt[i]):\n",
    "        count += 1\n",
    "        if src[i] != tgt[i]:\n",
    "            match_and_wrong += 1\n",
    "\n",
    "        new_src.append(src[i])\n",
    "        new_tgt.append(tgt[i])\n",
    "        #print(get_cor(src[i], tgt[i]))\n",
    "    else:\n",
    "        pass\n",
    "        #print(\"unmatch\")\n",
    "\n",
    "print(count)\n",
    "print(match_and_wrong)"
   ]
  },
  {
   "cell_type": "code",
   "execution_count": 5,
   "metadata": {},
   "outputs": [],
   "source": [
    "def cut_show(source ,cor_host):\n",
    "    tmp = \"\"\n",
    "    for i in range(len(source)):\n",
    "        first = source[i] + \"\\n\"\n",
    "        second = [\"  \"] * len(source[i]) + [\"\\n\"]\n",
    "        for cor in cor_host[i]:\n",
    "            second[cor[0]] = cor[1]\n",
    "    \n",
    "        tmp += \"\".join(first) + \"\".join(second) + \"\\n\"\n",
    "\n",
    "    write_to(\"tmp_analysis_\" + \"lang8\" + \".txt\", tmp)\n",
    "    return"
   ]
  },
  {
   "cell_type": "code",
   "execution_count": 8,
   "metadata": {},
   "outputs": [],
   "source": [
    "cor_host = []\n",
    "\n",
    "\n",
    "for i in range(len(new_src)):\n",
    "    cor_host.append( get_cor(new_src[i], new_tgt[i]) )\n",
    "        \n",
    "cut_show(new_src, cor_host)\n"
   ]
  },
  {
   "cell_type": "code",
   "execution_count": null,
   "metadata": {},
   "outputs": [],
   "source": []
  }
 ],
 "metadata": {
  "interpreter": {
   "hash": "90bb92497ec70e1ac59ff7125de72f80cb7d571a10b970670d76fc816afd7bfb"
  },
  "kernelspec": {
   "display_name": "Python 3.8.11 64-bit ('115': conda)",
   "language": "python",
   "name": "python3"
  },
  "language_info": {
   "codemirror_mode": {
    "name": "ipython",
    "version": 3
   },
   "file_extension": ".py",
   "mimetype": "text/x-python",
   "name": "python",
   "nbconvert_exporter": "python",
   "pygments_lexer": "ipython3",
   "version": "3.8.11"
  },
  "orig_nbformat": 4
 },
 "nbformat": 4,
 "nbformat_minor": 2
}
